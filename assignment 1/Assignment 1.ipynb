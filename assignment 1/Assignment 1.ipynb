{
 "cells": [
  {
   "cell_type": "markdown",
   "metadata": {},
   "source": [
    "# Assignment 1\n",
    "#### Kapil R Shenvi Pause\n",
    "#### MCS202004"
   ]
  },
  {
   "cell_type": "code",
   "execution_count": 1,
   "metadata": {},
   "outputs": [],
   "source": [
    "import nltk\n",
    "import glob, os\n",
    "import json\n",
    "import string\n",
    "from langdetect import detect\n",
    "import re\n",
    "from nltk.corpus import stopwords\n",
    "import tqdm"
   ]
  },
  {
   "cell_type": "markdown",
   "metadata": {},
   "source": [
    "# Converting from json to txt"
   ]
  },
  {
   "cell_type": "code",
   "execution_count": 2,
   "metadata": {},
   "outputs": [],
   "source": [
    "def remove_non_ascii_and_lower_case(text):\n",
    "    '''\n",
    "    Converts to lower case and then removes the non ascii characters\n",
    "    '''\n",
    "    return ''.join(filter(lambda x: x in string.printable, text.lower()))\n",
    "\n",
    "def extract_text(filename):\n",
    "    '''\n",
    "    Extract the text from the file name (json file) and\n",
    "    index the content from paper_id, title, abstract and body_text fields\n",
    "    Retuns - if output_as_list = True\n",
    "                list of all the above values,\n",
    "             else\n",
    "                text of title, abstract and bodt_text\n",
    "    '''\n",
    "\n",
    "    file = open(filename)\n",
    "    body_text = \"\"\n",
    "    abstract = \"\"\n",
    "    title = \"\"\n",
    "    paper_id = \"\"\n",
    "\n",
    "    paper_content = json.load(file)\n",
    "\n",
    "    #get the paper_id\n",
    "    if 'paper_id' in paper_content:\n",
    "        paper_id = paper_content['paper_id']\n",
    "    #get the title, if available\n",
    "    if 'title' in paper_content['metadata']:\n",
    "        title = paper_content['metadata']['title']\n",
    "    #get abstract.text, if available\n",
    "    if 'abstract' in paper_content:\n",
    "        for abs in paper_content['abstract']:\n",
    "            abstract = abstract + abs['text']\n",
    "    if 'body_text' in paper_content:\n",
    "        for bt in paper_content['body_text']:\n",
    "            body_text = body_text + bt['text']\n",
    "    return remove_non_ascii_and_lower_case(title + '.' + abstract + '.' + body_text + '.')\n",
    "\n"
   ]
  },
  {
   "cell_type": "code",
   "execution_count": null,
   "metadata": {},
   "outputs": [],
   "source": [
    "save_here='text_data'\n",
    "i=0\n",
    "non_english=0\n",
    "for file in os.listdir('data\\\\archive\\\\pdf_json'):\n",
    "    i+=1\n",
    "    if file.endswith('.json'):\n",
    "        text=extract_text(f'data\\\\archive\\\\pdf_json\\\\{file}')\n",
    "        #include only english texts\n",
    "        try:\n",
    "            lang=detect(text)\n",
    "        except:\n",
    "            continue\n",
    "        if lang=='en':\n",
    "            with open(save_here+'\\\\'+file+'.txt','w') as f:\n",
    "                f.write(text)\n",
    "        else:\n",
    "            non_english+=1"
   ]
  },
  {
   "cell_type": "code",
   "execution_count": 59,
   "metadata": {},
   "outputs": [
    {
     "name": "stdout",
     "output_type": "stream",
     "text": [
      "number of non english documents is 4576\n"
     ]
    }
   ],
   "source": [
    "print('number of non english documents is',non_english)"
   ]
  },
  {
   "cell_type": "markdown",
   "metadata": {},
   "source": [
    "# Preprocessing steps and reasons for choosing them\n",
    "1. **Remove non ascii characters.** This is done so that the data can be written into txt files.\n",
    "2. **Convert to lower case.** This is a standard proprocessing step.\n",
    "3. **Retain only english documents.** The data contains many non english documents and they arent needed for our purpose.\n",
    "4. **Remove decimal numbers along with `.`** These can interfere with extracting sentences.\n",
    "5. **Remove numbers and special characters(except `.`).** Numbers and special characters dont give much information. `.` is retained to serve as a marker for senetences.\n",
    "\n",
    "Note that **1,2** and **3** are done while converting from json to txt. We will do the rest steps in the coming code.\n",
    "### What is not done\n",
    "1. **Lemmatization, stemming  and removal of stopwords.** Since we will be creating language model, this should not be done. "
   ]
  },
  {
   "cell_type": "code",
   "execution_count": 3,
   "metadata": {},
   "outputs": [],
   "source": [
    "\n",
    "def remove_dot_if_decimal(word):\n",
    "    '''\n",
    "    Removes decimal point but not '.' in sentences\n",
    "    ie '3.29' becomes '329' but 'Covid19.' will remain 'Covid19.'\n",
    "    '''\n",
    "    return re.sub(r'(?<=\\d)[.](?=\\d)','',word)\n",
    "\n",
    "def remove_numbers_and_special_char(word):\n",
    "    '''\n",
    "    Removes numbers and special characters except '.'\n",
    "    ie 'iam@\"kapil_pause.\"' will become 'iamkapilpause.'.\n",
    "    '''\n",
    "    return re.sub(r'[^a-z.]','',word)\n",
    "\n",
    "\n",
    "def process(word):\n",
    "    '''\n",
    "    preprocess the word \n",
    "    '''\n",
    "    word=remove_dot_if_decimal(word)\n",
    "    return remove_numbers_and_special_char(word)"
   ]
  },
  {
   "cell_type": "code",
   "execution_count": 5,
   "metadata": {},
   "outputs": [
    {
     "name": "stderr",
     "output_type": "stream",
     "text": [
      "100%|██████████████████████████████████████████████████████████████████████████| 153862/153862 [27:46<00:00, 92.35it/s]\n"
     ]
    }
   ],
   "source": [
    "def all_words(string):\n",
    "    '''\n",
    "    returns the list of all words in the string\n",
    "    '''\n",
    "    return re.findall(r'\\w+',string)\n",
    "\n",
    "def all_senetences(string):\n",
    "    '''\n",
    "    returns list of all sentences in the string\n",
    "    '''\n",
    "    return list(filter(lambda x: len(x)>1,string.split('.')))\n",
    "\n",
    "data='text_data'\n",
    "destination='processed_text'\n",
    "word_count=0\n",
    "sentence_count=0\n",
    "vocabulary=set()\n",
    "no_of_terms=[]\n",
    "vocabulary_size=[]\n",
    "i=0\n",
    "for fname in tqdm.tqdm(os.listdir(f'{data}//')):\n",
    "    i+=1\n",
    "    with open(f'{data}//{fname}') as f:\n",
    "        text=f.read()\n",
    "    processed_text=' '.join(filter(None,(process(word) for word in text.split())))\n",
    "    words=all_words(processed_text)\n",
    "    vocabulary.update(words)\n",
    "    word_count+=len(words)\n",
    "    sentence_count+=len(all_senetences(processed_text))\n",
    "    no_of_terms+=[word_count]\n",
    "    vocabulary_size+=[len(vocabulary)]\n",
    "    with open(f'{destination}//{fname}','w') as f:\n",
    "        f.write(processed_text)\n"
   ]
  },
  {
   "cell_type": "code",
   "execution_count": 6,
   "metadata": {},
   "outputs": [
    {
     "name": "stdout",
     "output_type": "stream",
     "text": [
      "word count is 582342967\n",
      "Number of sentences is 28350787\n"
     ]
    }
   ],
   "source": [
    "print('word count is',word_count)\n",
    "print('Number of sentences is',sentence_count)"
   ]
  },
  {
   "cell_type": "code",
   "execution_count": 7,
   "metadata": {},
   "outputs": [
    {
     "name": "stdout",
     "output_type": "stream",
     "text": [
      "Vocabulary size is 2485750\n"
     ]
    }
   ],
   "source": [
    "print('Vocabulary size is',len(vocabulary))"
   ]
  },
  {
   "cell_type": "markdown",
   "metadata": {},
   "source": [
    "## Heaps law graph"
   ]
  },
  {
   "cell_type": "code",
   "execution_count": 8,
   "metadata": {},
   "outputs": [
    {
     "data": {
      "text/plain": [
       "Text(0, 0.5, 'Vocabulary size')"
      ]
     },
     "execution_count": 8,
     "metadata": {},
     "output_type": "execute_result"
    },
    {
     "data": {
      "image/png": "[encoded data removed]",
      "text/plain": [
       "<Figure size 432x288 with 1 Axes>"
      ]
     },
     "metadata": {
      "needs_background": "light"
     },
     "output_type": "display_data"
    }
   ],
   "source": [
    "import matplotlib.pyplot as plt\n",
    "plt.plot(no_of_terms,vocabulary_size)\n",
    "plt.title(\"Heaps Law\")\n",
    "plt.xlabel('Terms')\n",
    "plt.ylabel('Vocabulary size')\n"
   ]
  },
  {
   "cell_type": "code",
   "execution_count": null,
   "metadata": {},
   "outputs": [],
   "source": []
  },
  {
   "cell_type": "code",
   "execution_count": null,
   "metadata": {},
   "outputs": [],
   "source": []
  },
  {
   "cell_type": "code",
   "execution_count": null,
   "metadata": {},
   "outputs": [],
   "source": []
  }
 ],
 "metadata": {
  "kernelspec": {
   "display_name": "Python 3",
   "language": "python",
   "name": "python3"
  },
  "language_info": {
   "codemirror_mode": {
    "name": "ipython",
    "version": 3
   },
   "file_extension": ".py",
   "mimetype": "text/x-python",
   "name": "python",
   "nbconvert_exporter": "python",
   "pygments_lexer": "ipython3",
   "version": "3.8.5"
  }
 },
 "nbformat": 4,
 "nbformat_minor": 4
}
